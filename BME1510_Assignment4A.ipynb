{
 "cells": [
  {
   "cell_type": "code",
   "execution_count": 5,
   "id": "5e577c4c-854f-456e-a766-aef0985f40a5",
   "metadata": {},
   "outputs": [],
   "source": [
    "#import libraries\n",
    "#data\n",
    "from sklearn.datasets import load_iris\n",
    "\n",
    "# dataframe/array\n",
    "import numpy as np\n",
    "import pandas as pd\n",
    "\n",
    "# data split\n",
    "from sklearn.model_selection import train_test_split\n",
    "\n",
    "# modeling\n",
    "from sklearn.ensemble import RandomForestClassifier\n",
    "from sklearn.linear_model import LogisticRegression\n",
    "\n",
    "# plotting\n",
    "import matplotlib.pyplot as plt\n",
    "\n",
    "# evaluation metrics\n",
    "from sklearn.metrics import classification_report\n",
    "from sklearn.metrics import confusion_matrix\n",
    "from sklearn.metrics import ConfusionMatrixDisplay\n",
    "from sklearn.metrics import accuracy_score"
   ]
  },
  {
   "cell_type": "markdown",
   "id": "aabe2bdc-ca36-44c9-92ca-6340ecfa470c",
   "metadata": {},
   "source": [
    "Q1) Load the iris dataset from sklearn.datasets. What type of object is returned? Hint: use load_iris()."
   ]
  },
  {
   "cell_type": "code",
   "execution_count": 7,
   "id": "b581dfe4-6d95-4d88-a479-898d9d70ce52",
   "metadata": {},
   "outputs": [
    {
     "name": "stdout",
     "output_type": "stream",
     "text": [
      "<class 'sklearn.utils._bunch.Bunch'> is the type of object returned.\n"
     ]
    }
   ],
   "source": [
    "#load iris dataset\n",
    "iris = load_iris()\n",
    "\n",
    "#find out type of object returned \n",
    "print(type(iris), 'is the type of object returned.')"
   ]
  },
  {
   "cell_type": "markdown",
   "id": "1d4ee3e4-343a-431e-b184-6f965bb2249c",
   "metadata": {},
   "source": [
    "Bunch is a dictionary that consists of keys as attribute (eg: iris.target_names, iris.feataure_names, iris.target, etc.)"
   ]
  },
  {
   "cell_type": "markdown",
   "id": "10466987-1d12-4a1e-bb4f-2c5e17fa5a89",
   "metadata": {},
   "source": [
    "Q2) Assign the features to a variable called X and the class labels to variable called y. Hint: look at iris.keys(), iris.target_names, iris.feature_names, etc"
   ]
  },
  {
   "cell_type": "code",
   "execution_count": 10,
   "id": "d852e76c-abdf-43f4-9013-ce141831f4fb",
   "metadata": {},
   "outputs": [],
   "source": [
    "#Explanatory Data Analysis (EDA)\n",
    "#get a better understanding of the data. What are we dealing with? Is it accurate? Does anything need to be modified/changed?"
   ]
  },
  {
   "cell_type": "code",
   "execution_count": 11,
   "id": "a48fb54a-af65-445c-b956-2cd7bc66ea67",
   "metadata": {},
   "outputs": [],
   "source": [
    "#assign features to variable X\n",
    "X = pd.DataFrame(iris.data, columns = iris.feature_names)"
   ]
  },
  {
   "cell_type": "code",
   "execution_count": 12,
   "id": "a87f4fb9-5eb6-4841-92f4-a175cf98e5b6",
   "metadata": {},
   "outputs": [
    {
     "data": {
      "text/plain": [
       "sepal length (cm)    float64\n",
       "sepal width (cm)     float64\n",
       "petal length (cm)    float64\n",
       "petal width (cm)     float64\n",
       "dtype: object"
      ]
     },
     "execution_count": 12,
     "metadata": {},
     "output_type": "execute_result"
    }
   ],
   "source": [
    "X.dtypes"
   ]
  },
  {
   "cell_type": "code",
   "execution_count": 13,
   "id": "12ce9ed7-f4dc-46af-8c78-37f0bdcfa22e",
   "metadata": {},
   "outputs": [
    {
     "data": {
      "text/plain": [
       "Index(['sepal length (cm)', 'sepal width (cm)', 'petal length (cm)',\n",
       "       'petal width (cm)'],\n",
       "      dtype='object')"
      ]
     },
     "execution_count": 13,
     "metadata": {},
     "output_type": "execute_result"
    }
   ],
   "source": [
    "X.columns"
   ]
  },
  {
   "cell_type": "code",
   "execution_count": 20,
   "id": "b9f7b42b-87be-46cd-9bd7-79e5cb76e93d",
   "metadata": {},
   "outputs": [
    {
     "name": "stdout",
     "output_type": "stream",
     "text": [
      "There are 150 records\n"
     ]
    }
   ],
   "source": [
    "print(f\"There are {len(X)} records\")"
   ]
  },
  {
   "cell_type": "code",
   "execution_count": 22,
   "id": "f17b8df2-5580-4872-a393-9e4be14d6f27",
   "metadata": {},
   "outputs": [
    {
     "data": {
      "text/html": [
       "<div>\n",
       "<style scoped>\n",
       "    .dataframe tbody tr th:only-of-type {\n",
       "        vertical-align: middle;\n",
       "    }\n",
       "\n",
       "    .dataframe tbody tr th {\n",
       "        vertical-align: top;\n",
       "    }\n",
       "\n",
       "    .dataframe thead th {\n",
       "        text-align: right;\n",
       "    }\n",
       "</style>\n",
       "<table border=\"1\" class=\"dataframe\">\n",
       "  <thead>\n",
       "    <tr style=\"text-align: right;\">\n",
       "      <th></th>\n",
       "      <th>sepal length (cm)</th>\n",
       "      <th>sepal width (cm)</th>\n",
       "      <th>petal length (cm)</th>\n",
       "      <th>petal width (cm)</th>\n",
       "    </tr>\n",
       "  </thead>\n",
       "  <tbody>\n",
       "    <tr>\n",
       "      <th>count</th>\n",
       "      <td>150.000000</td>\n",
       "      <td>150.000000</td>\n",
       "      <td>150.000000</td>\n",
       "      <td>150.000000</td>\n",
       "    </tr>\n",
       "    <tr>\n",
       "      <th>mean</th>\n",
       "      <td>5.843333</td>\n",
       "      <td>3.057333</td>\n",
       "      <td>3.758000</td>\n",
       "      <td>1.199333</td>\n",
       "    </tr>\n",
       "    <tr>\n",
       "      <th>std</th>\n",
       "      <td>0.828066</td>\n",
       "      <td>0.435866</td>\n",
       "      <td>1.765298</td>\n",
       "      <td>0.762238</td>\n",
       "    </tr>\n",
       "    <tr>\n",
       "      <th>min</th>\n",
       "      <td>4.300000</td>\n",
       "      <td>2.000000</td>\n",
       "      <td>1.000000</td>\n",
       "      <td>0.100000</td>\n",
       "    </tr>\n",
       "    <tr>\n",
       "      <th>25%</th>\n",
       "      <td>5.100000</td>\n",
       "      <td>2.800000</td>\n",
       "      <td>1.600000</td>\n",
       "      <td>0.300000</td>\n",
       "    </tr>\n",
       "    <tr>\n",
       "      <th>50%</th>\n",
       "      <td>5.800000</td>\n",
       "      <td>3.000000</td>\n",
       "      <td>4.350000</td>\n",
       "      <td>1.300000</td>\n",
       "    </tr>\n",
       "    <tr>\n",
       "      <th>75%</th>\n",
       "      <td>6.400000</td>\n",
       "      <td>3.300000</td>\n",
       "      <td>5.100000</td>\n",
       "      <td>1.800000</td>\n",
       "    </tr>\n",
       "    <tr>\n",
       "      <th>max</th>\n",
       "      <td>7.900000</td>\n",
       "      <td>4.400000</td>\n",
       "      <td>6.900000</td>\n",
       "      <td>2.500000</td>\n",
       "    </tr>\n",
       "  </tbody>\n",
       "</table>\n",
       "</div>"
      ],
      "text/plain": [
       "       sepal length (cm)  sepal width (cm)  petal length (cm)  \\\n",
       "count         150.000000        150.000000         150.000000   \n",
       "mean            5.843333          3.057333           3.758000   \n",
       "std             0.828066          0.435866           1.765298   \n",
       "min             4.300000          2.000000           1.000000   \n",
       "25%             5.100000          2.800000           1.600000   \n",
       "50%             5.800000          3.000000           4.350000   \n",
       "75%             6.400000          3.300000           5.100000   \n",
       "max             7.900000          4.400000           6.900000   \n",
       "\n",
       "       petal width (cm)  \n",
       "count        150.000000  \n",
       "mean           1.199333  \n",
       "std            0.762238  \n",
       "min            0.100000  \n",
       "25%            0.300000  \n",
       "50%            1.300000  \n",
       "75%            1.800000  \n",
       "max            2.500000  "
      ]
     },
     "execution_count": 22,
     "metadata": {},
     "output_type": "execute_result"
    }
   ],
   "source": [
    "X.describe()"
   ]
  },
  {
   "cell_type": "code",
   "execution_count": 24,
   "id": "c7be4aea-c843-4095-8655-85ed3d4111ff",
   "metadata": {},
   "outputs": [
    {
     "data": {
      "text/plain": [
       "sepal length (cm)    0\n",
       "sepal width (cm)     0\n",
       "petal length (cm)    0\n",
       "petal width (cm)     0\n",
       "dtype: int64"
      ]
     },
     "execution_count": 24,
     "metadata": {},
     "output_type": "execute_result"
    }
   ],
   "source": [
    "X.isnull().sum()"
   ]
  },
  {
   "cell_type": "code",
   "execution_count": 55,
   "id": "ab407999-62e1-4611-b974-a7021a95c203",
   "metadata": {},
   "outputs": [
    {
     "name": "stdout",
     "output_type": "stream",
     "text": [
      "   sepal length (cm)  sepal width (cm)  petal length (cm)  petal width (cm)\n",
      "0                5.1               3.5                1.4               0.2\n",
      "1                4.9               3.0                1.4               0.2\n",
      "2                4.7               3.2                1.3               0.2\n",
      "3                4.6               3.1                1.5               0.2\n",
      "4                5.0               3.6                1.4               0.2\n"
     ]
    }
   ],
   "source": [
    "print(X.head())"
   ]
  },
  {
   "cell_type": "code",
   "execution_count": 73,
   "id": "1fb95f13-4948-4c1f-bfa7-534b51d4b0b8",
   "metadata": {},
   "outputs": [
    {
     "name": "stdout",
     "output_type": "stream",
     "text": [
      "     species_label\n",
      "0                0\n",
      "1                0\n",
      "2                0\n",
      "3                0\n",
      "4                0\n",
      "..             ...\n",
      "145              2\n",
      "146              2\n",
      "147              2\n",
      "148              2\n",
      "149              2\n",
      "\n",
      "[150 rows x 1 columns] 0 = setosa, 1 = versicolor, 2 = virginica\n"
     ]
    }
   ],
   "source": [
    "#assign class label to variable y\n",
    "y = pd.DataFrame(iris.target, columns = ['species_label'])\n",
    "print(y, '0 = setosa, 1 = versicolor, 2 = virginica')"
   ]
  },
  {
   "cell_type": "markdown",
   "id": "e8da2af0-a7af-45c8-acb6-405b9f8c4c35",
   "metadata": {},
   "source": [
    "Q3) Split the data into train and test sets. Hint: use train_test_split()"
   ]
  },
  {
   "cell_type": "code",
   "execution_count": 76,
   "id": "5b2ae0a0-7667-4b64-9d50-51c69c67988c",
   "metadata": {},
   "outputs": [
    {
     "name": "stdout",
     "output_type": "stream",
     "text": [
      "X_train shape: (120, 4), X_test shape: (30, 4)\n",
      "y_train shape: (120, 1), y_test shape: (30, 1)\n"
     ]
    }
   ],
   "source": [
    "#split data into train and test sets\n",
    "X_train, X_test, y_train, y_test = train_test_split(X, y, test_size = 0.20, random_state = 10, shuffle = True, stratify = y)\n",
    "print(f'X_train shape: {X_train.shape}, X_test shape: {X_test.shape}')\n",
    "print(f'y_train shape: {y_train.shape}, y_test shape: {y_test.shape}')"
   ]
  },
  {
   "cell_type": "markdown",
   "id": "aec27161-636b-4e73-b728-f341f6e3bb09",
   "metadata": {},
   "source": [
    "Stratify = y (this allows equal distribution of the 'y', (species) in the train and test model to allow correct comparison"
   ]
  },
  {
   "cell_type": "markdown",
   "id": "49973636-eaac-4e09-a064-f01c4aec4ebd",
   "metadata": {},
   "source": [
    "Q4) Choose your favourite classifier and see if you can classify the Iris species."
   ]
  },
  {
   "cell_type": "code",
   "execution_count": 71,
   "id": "12868fdb-5fdd-4bf3-8b16-3b9e2a003be7",
   "metadata": {},
   "outputs": [
    {
     "name": "stdout",
     "output_type": "stream",
     "text": [
      "Accuracy of logistic regression on test set: 1.00\n"
     ]
    }
   ],
   "source": [
    "#create the logistic regression model, maximum iteration = # of times it will run until it stops\n",
    "log_model = LogisticRegression(max_iter = 200)\n",
    "\n",
    "#train the model\n",
    "#.values.ravel() flattens 2D array into 1D (because made y into a dataframe with another column)\n",
    "log_model.fit(X_train, y_train.values.ravel())\n",
    "\n",
    "#make predictions on the test set\n",
    "y_pred_log = log_model.predict(X_test)\n",
    "\n",
    "#evaluate model by calculating accuracy and print accuracy with 2 decimal places\n",
    "accuracy_log = accuracy_score(y_test, y_pred_log)\n",
    "print(f'Accuracy of logistic regression on test set: {accuracy_log:.2f}')"
   ]
  },
  {
   "cell_type": "markdown",
   "id": "90d7e210-a676-4c4e-8787-edeca05e3a6b",
   "metadata": {},
   "source": [
    "Reason for choosing LR: Simple, efficient on this dataset, handles complexity of multiple classes well, high accuracy"
   ]
  },
  {
   "cell_type": "code",
   "execution_count": 203,
   "id": "2485dabd-288b-49ac-807f-175af80f0f3d",
   "metadata": {},
   "outputs": [
    {
     "name": "stdout",
     "output_type": "stream",
     "text": [
      "Accuracy of classification on test set: 1.00\n"
     ]
    }
   ],
   "source": [
    "#create the random forest classifier model, random_state = controls randomness, \"the answer to life, the universe, and everything\"\n",
    "rf_model = RandomForestClassifier(random_state = 42)\n",
    "\n",
    "#train the model\n",
    "#.values.ravel() flattens 2D array into 1D \n",
    "rf_model.fit(X_train, y_train.values.ravel())\n",
    "\n",
    "#test the model\n",
    "y_pred_rf = rf_model.predict(X_test)\n",
    "\n",
    "#evaluate model by calculating accuracy\n",
    "accuracy_rf = accuracy_score(y_test, y_pred_rf)\n",
    "print(f'Accuracy of classification on test set: {accuracy_rf:.2f}')"
   ]
  },
  {
   "cell_type": "markdown",
   "id": "571c98ad-82b5-4e86-a1e4-3aa724a8324f",
   "metadata": {},
   "source": [
    "Reasoning for choosing RF: Performs well on small and large datasets, can manage multiple classes and features, higher accuracy"
   ]
  },
  {
   "cell_type": "markdown",
   "id": "5a3c0771-9c77-4840-ab29-2774a94186ec",
   "metadata": {},
   "source": [
    "Q5) Compute the confusion matrix, precision, and recall."
   ]
  },
  {
   "cell_type": "code",
   "execution_count": 207,
   "id": "2f3c263e-a81b-4d71-8aaa-652544098e76",
   "metadata": {
    "scrolled": true
   },
   "outputs": [
    {
     "name": "stdout",
     "output_type": "stream",
     "text": [
      "              precision    recall  f1-score   support\n",
      "\n",
      "           0       1.00      1.00      1.00        10\n",
      "           1       1.00      1.00      1.00        10\n",
      "           2       1.00      1.00      1.00        10\n",
      "\n",
      "    accuracy                           1.00        30\n",
      "   macro avg       1.00      1.00      1.00        30\n",
      "weighted avg       1.00      1.00      1.00        30\n",
      "\n",
      "The model is performing perfectly on this dataset (as the precision, recall and F1 scores are 1.00).\n"
     ]
    }
   ],
   "source": [
    "#classification report for logistic regression model\n",
    "##y_test and y_pred are true and predicted labels\n",
    "print(classification_report(y_test,y_pred_log))\n",
    "print('The model is performing perfectly on this dataset (as the precision, recall and F1 scores are 1.00).')"
   ]
  },
  {
   "cell_type": "markdown",
   "id": "621d0af2-8ed2-4321-a677-881810c2f038",
   "metadata": {},
   "source": [
    "Precision (positive identification for each class), recall (fraction of actual positive found), F1 score (balances precision and recall, 0 bad & 1 good)"
   ]
  },
  {
   "cell_type": "code",
   "execution_count": 210,
   "id": "c04ecfc5-6911-4634-8d32-980d99ac05fb",
   "metadata": {},
   "outputs": [
    {
     "name": "stdout",
     "output_type": "stream",
     "text": [
      "              precision    recall  f1-score   support\n",
      "\n",
      "           0       1.00      1.00      1.00        10\n",
      "           1       1.00      1.00      1.00        10\n",
      "           2       1.00      1.00      1.00        10\n",
      "\n",
      "    accuracy                           1.00        30\n",
      "   macro avg       1.00      1.00      1.00        30\n",
      "weighted avg       1.00      1.00      1.00        30\n",
      "\n",
      "The model is performing perfectly on this dataset (as the precision, recall and F1 scores are 1.00).\n"
     ]
    }
   ],
   "source": [
    "#classification report for random forest model\n",
    "##y_test and y_pred are true and predicted labels\n",
    "print(classification_report(y_test, y_pred_rf))\n",
    "print('The model is performing perfectly on this dataset (as the precision, recall and F1 scores are 1.00).')"
   ]
  },
  {
   "cell_type": "code",
   "execution_count": 228,
   "id": "c71fc3af-9d7c-477c-88e5-e0f3f05b7b5d",
   "metadata": {},
   "outputs": [
    {
     "data": {
      "image/png": "[encoded data removed]",
      "text/plain": [
       "<Figure size 640x480 with 2 Axes>"
      ]
     },
     "metadata": {},
     "output_type": "display_data"
    },
    {
     "name": "stdout",
     "output_type": "stream",
     "text": [
      "The confusion matrix indicates 100% accuracy for all three classes.\n"
     ]
    }
   ],
   "source": [
    "##y_test and y_pred_log are true and predicted labels\n",
    "#plot confusion matrix for logistic regression model\n",
    "disp = ConfusionMatrixDisplay(confusion_matrix=confm_log, display_labels=iris.target_names)\n",
    "disp.plot()\n",
    "plt.title('CM of logistic regression model')\n",
    "plt.show()\n",
    "print('The confusion matrix indicates 100% accuracy for all three classes.')"
   ]
  },
  {
   "cell_type": "code",
   "execution_count": 230,
   "id": "1f1fb39f-8f72-4875-b7c6-330106971fa4",
   "metadata": {},
   "outputs": [
    {
     "data": {
      "image/png": "[encoded data removed]",
      "text/plain": [
       "<Figure size 640x480 with 2 Axes>"
      ]
     },
     "metadata": {},
     "output_type": "display_data"
    },
    {
     "name": "stdout",
     "output_type": "stream",
     "text": [
      "The confusion matrix indicates 100% accuracy for all three classes.\n"
     ]
    }
   ],
   "source": [
    "##y_test and y_pred_rf are true and predicted labels\n",
    "#plot confusion matrix for random forest model\n",
    "disp = ConfusionMatrixDisplay(confusion_matrix=confm_rf, display_labels=iris.target_names)\n",
    "disp.plot()\n",
    "plt.title('CM of random forest model')\n",
    "plt.show()\n",
    "print('The confusion matrix indicates 100% accuracy for all three classes.')"
   ]
  },
  {
   "cell_type": "markdown",
   "id": "5c939b19-6527-4d86-ba14-7efcefbff6be",
   "metadata": {},
   "source": [
    "Ta da! As you can see both classifiers and models work perfectly with the iris data set. "
   ]
  },
  {
   "cell_type": "code",
   "execution_count": null,
   "id": "78de757a-7dc5-4faa-9655-9097a0195beb",
   "metadata": {},
   "outputs": [],
   "source": []
  }
 ],
 "metadata": {
  "kernelspec": {
   "display_name": "Python [conda env:base] *",
   "language": "python",
   "name": "conda-base-py"
  },
  "language_info": {
   "codemirror_mode": {
    "name": "ipython",
    "version": 3
   },
   "file_extension": ".py",
   "mimetype": "text/x-python",
   "name": "python",
   "nbconvert_exporter": "python",
   "pygments_lexer": "ipython3",
   "version": "3.12.7"
  }
 },
 "nbformat": 4,
 "nbformat_minor": 5
}
